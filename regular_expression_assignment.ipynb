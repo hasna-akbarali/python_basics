{
 "cells": [
  {
   "cell_type": "code",
   "execution_count": null,
   "metadata": {},
   "outputs": [],
   "source": [
    "\"\"\" regex\n",
    ".       - Any Character Except New Line\n",
    "\\d      - Digit (0-9)\n",
    "\\D      - Not a Digit (0-9)\n",
    "\\w      - Word Character (a-z, A-Z, 0-9, _)\n",
    "\\W      - Not a Word Character\n",
    "\\s      - Whitespace (space, tab, newline)\n",
    "\\S      - Not Whitespace (space, tab, newline)\n",
    "\n",
    "\\b      - Word Boundary\n",
    "\\B      - Not a Word Boundary\n",
    "^       - Beginning of a String\n",
    "$       - End of a String\n",
    "\n",
    "[]      - Matches Characters in brackets\n",
    "[^ ]    - Matches Characters NOT in brackets\n",
    "|       - Either Or\n",
    "( )     - Group\n",
    "\n",
    "Quantifiers:\n",
    "*       - 0 or More\n",
    "+       - 1 or More\n",
    "?       - 0 or One\n",
    "{3}     - Exact Number\n",
    "{3,4}   - Range of Numbers (Minimum, Maximum)\n",
    "\n",
    "\"\"\""
   ]
  },
  {
   "cell_type": "code",
   "execution_count": null,
   "metadata": {},
   "outputs": [],
   "source": [
    "search - first occurense\n",
    "match - starting of string\n",
    "split\n",
    "findall - all matches\n",
    "sub - replacement"
   ]
  },
  {
   "cell_type": "code",
   "execution_count": null,
   "metadata": {},
   "outputs": [],
   "source": [
    "# Write a Python program to check that a string contains only a certain set of characters (in this case a-z, A-Z and 0-9).\n",
    "\n",
    "import re \n",
    "\n",
    "def find_is_char(string):\n",
    "    pattern = re.compile('[^[A-Za-z0-9]]')\n",
    "    match = pattern.finditer(string)\n",
    "    return not bool(match)\n",
    "\n",
    "if find_is_char('Hasna Akbar'):\n",
    "    print('It contains only A-Z, a-z, 0-9')\n",
    "else:\n",
    "    print('It contains characters other than A-Z, a-z, 0-9')"
   ]
  },
  {
   "cell_type": "code",
   "execution_count": 8,
   "metadata": {},
   "outputs": [
    {
     "name": "stdout",
     "output_type": "stream",
     "text": [
      "abbb\n",
      "ab\n",
      "abbbb\n"
     ]
    }
   ],
   "source": [
    "# Write a Python program that matches a string that has an a followed by zero or more b's.\n",
    "\n",
    "# import re \n",
    "\n",
    "# txt = input('')\n",
    "# x = re.search(\"[a][b]*\", txt)\n",
    "# if x:\n",
    "#   print(\"YES! We have a match!\")\n",
    "# else:\n",
    "#   print(\"No match\")\n",
    "\n",
    "import re \n",
    "\n",
    "txt = 'abbb ab abbbb'\n",
    "pattern = re.compile(\"ab*\")\n",
    "match = pattern.findall(txt)\n",
    "\n",
    "for i in match:\n",
    "    print(i)"
   ]
  },
  {
   "cell_type": "code",
   "execution_count": null,
   "metadata": {},
   "outputs": [],
   "source": [
    "# Write a Python program that matches a string that has an a followed by one or more b's.\n",
    "\n",
    "import re \n",
    "\n",
    "txt = input('')\n",
    "x = re.search(\"ab+\", txt)\n",
    "if x:\n",
    "  print(\"YES! We have a match!\")\n",
    "else:\n",
    "  print(\"No match\")"
   ]
  },
  {
   "cell_type": "code",
   "execution_count": 7,
   "metadata": {},
   "outputs": [
    {
     "name": "stdout",
     "output_type": "stream",
     "text": [
      "<re.Match object; span=(0, 1), match='a'>\n"
     ]
    }
   ],
   "source": [
    "# Write a Python program that matches a string that has an a followed by zero or one 'b'.\n",
    "\n",
    "import re\n",
    "\n",
    "string = 'a'\n",
    "pattern = re.compile(\"ab?\")\n",
    "match = pattern.finditer(string)\n",
    "\n",
    "for i in match:\n",
    "    print(i)\n"
   ]
  },
  {
   "cell_type": "code",
   "execution_count": null,
   "metadata": {},
   "outputs": [],
   "source": [
    "# Write a Python program that matches a string that has an a followed by three 'b'.\n",
    "\n",
    "import re \n",
    "\n",
    "txt = input('')\n",
    "x = re.search(\"ab{3}\", txt)\n",
    "if x:\n",
    "  print(\"YES! We have a match!\")\n",
    "else:\n",
    "  print(\"No match\")"
   ]
  },
  {
   "cell_type": "code",
   "execution_count": null,
   "metadata": {},
   "outputs": [],
   "source": [
    "# Write a Python program that matches a word containing 'z', not at the start or end of the word.\n",
    "\n",
    "import re \n",
    "\n",
    "txt = input('')\n",
    "x = re.search(\"\\Bz\\B\", txt)\n",
    "if x:\n",
    "  print(\"YES! We have a match!\")\n",
    "else:\n",
    "  print(\"No match\")"
   ]
  },
  {
   "cell_type": "code",
   "execution_count": null,
   "metadata": {},
   "outputs": [],
   "source": [
    "'''\n",
    "Write a Python program to find the substrings within a string.\n",
    "\n",
    "Sample text:\n",
    "'Python exercises, PHP exercises, C# exercises'\n",
    "Pattern:\n",
    "'exercises'\n",
    "\n",
    "Note: There are two instances of exercises in the input string.\n",
    "'''\n",
    "\n",
    "import re \n",
    "\n",
    "txt = 'Python exercises, PHP exercises, C# exercises'\n",
    "pattern = re.compile(r\"\\bexercises\\b\")\n",
    "match = pattern.finditer(txt)\n",
    "for i in match:\n",
    "    print(i)"
   ]
  },
  {
   "cell_type": "code",
   "execution_count": null,
   "metadata": {},
   "outputs": [],
   "source": [
    "# Write a Python program to abbreviate 'Road' as 'Rd.' in a given string.\n",
    "\n",
    "import re \n",
    "\n",
    "txt = '''We'll cross the RoadTrip up ahead at the crosswalk. \n",
    "He drove off the Road. We parked by the side of the Road. \n",
    "There are lots of cars on the Road this morning.'''\n",
    "\n",
    "pattern = r'\\bRoad\\b'\n",
    "replacement = 'Rd'\n",
    "\n",
    "new_txt = re.sub(pattern, replacement, txt)\n",
    "print(new_txt)"
   ]
  },
  {
   "cell_type": "code",
   "execution_count": null,
   "metadata": {},
   "outputs": [],
   "source": [
    "'''Write a Python program to remove the parenthesis area in a string. Go to the editor\n",
    "Sample data : [\"example (.com)\", \"w3resource\", \"github (.com)\", \"stackoverflow (.com)\"]\n",
    "Expected Output:\n",
    "example\n",
    "w3resource\n",
    "github\n",
    "stackoverflow'''\n",
    "\n",
    "import re\n",
    "\n",
    "txt = [\"example (.com)\", \"w3resource\", \"github (.com)\", \"stackoverflow (.com)\"]\n",
    "new_txt = []\n",
    "pattern = '\\(.com\\)'\n",
    "replacement = ''\n",
    "\n",
    "for i in txt:\n",
    "    print(re.sub(pattern, replacement, i))\n"
   ]
  },
  {
   "cell_type": "code",
   "execution_count": null,
   "metadata": {},
   "outputs": [],
   "source": [
    "# Write a Python program to remove lowercase substrings from a given string.\n",
    "\n",
    "import re\n",
    "\n",
    "txt = \"HasnaAkbarAli Shabnam Shaesta Sulaika\"\n",
    "pattern = '[a-z]*'\n",
    "replacement = ''\n",
    "print(re.sub(pattern, replacement, txt))"
   ]
  }
 ],
 "metadata": {
  "kernelspec": {
   "display_name": "Python 3",
   "language": "python",
   "name": "python3"
  },
  "language_info": {
   "codemirror_mode": {
    "name": "ipython",
    "version": 3
   },
   "file_extension": ".py",
   "mimetype": "text/x-python",
   "name": "python",
   "nbconvert_exporter": "python",
   "pygments_lexer": "ipython3",
   "version": "3.7.6"
  }
 },
 "nbformat": 4,
 "nbformat_minor": 4
}
