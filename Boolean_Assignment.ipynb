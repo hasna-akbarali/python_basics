{
 "cells": [
  {
   "cell_type": "code",
   "execution_count": 1,
   "id": "a51afafe",
   "metadata": {},
   "outputs": [
    {
     "name": "stdout",
     "output_type": "stream",
     "text": [
      "<class 'bool'>\n"
     ]
    }
   ],
   "source": [
    "# Q. Declare a boolean value and store it in a variable.\n",
    "# Check the type and print the id of the same.\n",
    "\n",
    "a = True\n",
    "print(type(a))"
   ]
  },
  {
   "cell_type": "code",
   "execution_count": 4,
   "id": "dc439122",
   "metadata": {},
   "outputs": [
    {
     "name": "stdout",
     "output_type": "stream",
     "text": [
      "4396946736\n",
      "4396946736\n"
     ]
    }
   ],
   "source": [
    "# Q. Take one boolean value between 0 - 256.\n",
    "# Assign it to two different variables.\n",
    "# Check the id of both the variables. It should come the same. Check why?\n",
    "\n",
    "a = True\n",
    "b = True\n",
    "\n",
    "print(id(a))\n",
    "print(id(b))\n",
    "\n",
    "# Python provides object reusability for boolean values, \n",
    "# the id remainds same for True and False irrespective of varibale name"
   ]
  },
  {
   "cell_type": "code",
   "execution_count": 7,
   "id": "e22c0b52",
   "metadata": {},
   "outputs": [
    {
     "name": "stdout",
     "output_type": "stream",
     "text": [
      "False + True = 1\n",
      "False - True = -1\n",
      "False * True = 0\n",
      "False / True = 0.0\n",
      "False % True = 0\n",
      "False // True = 0\n",
      "False ** True = 0\n"
     ]
    }
   ],
   "source": [
    "# Q. Arithmetic Operations on boolean data\n",
    "# Take two different boolean values.\n",
    "# Store them in two different variables.\n",
    "# Do below operations on them:-\n",
    "# Find sum of both values\n",
    "# Find difference between them\n",
    "# Find the product of both.\n",
    "# Find value after dividing first value with second value\n",
    "# Find the remainder after dividing first value with second value\n",
    "# Find the quotient after dividing first value with second value\n",
    "# Find the result of first value to the power of second value.\n",
    "\n",
    "\n",
    "a = False # Python considers False as 0\n",
    "b = True # Python considers True as 1\n",
    "\n",
    "print(f'{a} + {b} = {a+b}')\n",
    "print(f'{a} - {b} = {a-b}')\n",
    "print(f'{a} * {b} = {a*b}')\n",
    "print(f'{a} / {b} = {a/b}')\n",
    "print(f'{a} % {b} = {a%b}')\n",
    "print(f'{a} // {b} = {a//b}')\n",
    "print(f'{a} ** {b} = {a**b}')"
   ]
  },
  {
   "cell_type": "code",
   "execution_count": 9,
   "id": "e82db49a",
   "metadata": {},
   "outputs": [
    {
     "name": "stdout",
     "output_type": "stream",
     "text": [
      "False > True = False\n",
      "False < True = True\n",
      "False >= True = False\n",
      "False <= True = True\n"
     ]
    }
   ],
   "source": [
    "# Q. Comparison Operators on boolean values\n",
    "# Take two different boolean values.\n",
    "# Store them in two different variables.\n",
    "# Do below operations on them:-\n",
    "# Compare these two values with below operator:-\n",
    "# Greater than, '>'\n",
    "# less than, '<'\n",
    "# Greater than or equal to, '>='\n",
    "# Less than or equal to, '<='\n",
    "# Observe their output(return type should be boolean)\n",
    "\n",
    "a = False # Python considers False as 0\n",
    "b = True # Python considers True as 1\n",
    "\n",
    "print(f'{a} > {b} = {a>b}')\n",
    "print(f'{a} < {b} = {a<b}')\n",
    "print(f'{a} >= {b} = {a>=b}')\n",
    "print(f'{a} <= {b} = {a<=b}')"
   ]
  },
  {
   "cell_type": "code",
   "execution_count": 10,
   "id": "6f3483f8",
   "metadata": {},
   "outputs": [
    {
     "name": "stdout",
     "output_type": "stream",
     "text": [
      "False == True = False\n",
      "False != True = True\n"
     ]
    }
   ],
   "source": [
    "# Q. Equality Operator\n",
    "# Take two different boolean values.\n",
    "# Store them in two different variables.\n",
    "# Equate them using equality operators (==, !=)\n",
    "# Observe the output(return type should be boolean)\n",
    "\n",
    "a = False # Python considers False as 0\n",
    "b = True # Python considers True as 1\n",
    "\n",
    "print(f'{a} == {b} = {a==b}')\n",
    "print(f'{a} != {b} = {a!=b}')"
   ]
  },
  {
   "cell_type": "code",
   "execution_count": 12,
   "id": "7c602b16",
   "metadata": {},
   "outputs": [
    {
     "name": "stdout",
     "output_type": "stream",
     "text": [
      "True\n",
      "False\n",
      "False\n",
      "False\n",
      "True\n",
      "True\n",
      "True\n",
      "False\n",
      "False\n",
      "True\n"
     ]
    }
   ],
   "source": [
    "# Q. Logical operators\n",
    "# Observe the output of below code\n",
    "# Cross check the output manually\n",
    "\n",
    "print(True and True)\n",
    "#----------------------------------------->Output is True\n",
    "\n",
    "print(False and True)\n",
    "#----------------------------------------->Output is False\n",
    "print(True and False)\n",
    "#----------------------------------------->Output is False\n",
    "print(False and False)\n",
    "#----------------------------------------->Output is False\n",
    "print(True or True)\n",
    "#----------------------------------------->Output is True\n",
    "print(False or True)\n",
    "#----------------------------------------->Output is True\n",
    "print(True or False)\n",
    "#----------------------------------------->Output is True\n",
    "print(False or False)\n",
    "#----------------------------------------->Output is False\n",
    "print(not True)\n",
    "#----------------------------------------->Output is False\n",
    "print(not False)\n",
    "#----------------------------------------->Output is True"
   ]
  },
  {
   "cell_type": "code",
   "execution_count": null,
   "id": "38549e76",
   "metadata": {},
   "outputs": [],
   "source": [
    "# Q. Bitwise Operators\n",
    "# Do below operations on the values provided below:-\n",
    "# Bitwise and(&) --------------> True, True -------> Output is True\n",
    "# Bitwise or(|) --------------> True, False -------> Output is True\n",
    "# Bitwise(^) --------------> True, False -------> Output is True\n",
    "# Bitwise negation(~) ---------> True -------> Output is -2\n",
    "# Bitwise left shift ---------> True,2 -------> Output is 4\n",
    "# Bitwise right shift ---------> True,2 -------> Output is 0\n",
    "# Cross check the output manually\n",
    "\n",
    "a = True\n",
    "b = False\n",
    "\n",
    "print(f'{a} & {b} = {a&b}')\n",
    "print(f'{a} | {b} = {a|b}')\n",
    "print(f'{a} ^ {b} = {a^b}')\n",
    "print(f'~{b} = {~b}')\n",
    "print(f'{a} >> 2 = {a>>2}')\n",
    "print(f'{a} << {b} = {a<<2}')\n",
    "print(f'{a} & {b} = {a&b}')\n",
    "print(f'{a} | {b} = {a|b}')\n"
   ]
  },
  {
   "cell_type": "code",
   "execution_count": 14,
   "id": "00ed55fe",
   "metadata": {},
   "outputs": [
    {
     "name": "stdout",
     "output_type": "stream",
     "text": [
      "True\n",
      "False\n",
      "True\n",
      "False\n"
     ]
    }
   ],
   "source": [
    "# Q. What is the output of expression inside the print statement. Cross\n",
    "# check before running the program.\n",
    "\n",
    "a = True\n",
    "b = True\n",
    "print(a is b) #True\n",
    "\n",
    "print(a is not b) #False\n",
    "a = False\n",
    "b = False\n",
    "print(a is b) #True\n",
    "print(a is not b) #False"
   ]
  },
  {
   "cell_type": "code",
   "execution_count": 15,
   "id": "ce9f17e0",
   "metadata": {},
   "outputs": [
    {
     "name": "stdout",
     "output_type": "stream",
     "text": [
      "True\n",
      "True\n",
      "True\n",
      "True\n",
      "True\n"
     ]
    }
   ],
   "source": [
    "# Q. Membership operation\n",
    "# in, not in are two membership operators and it returns boolean value\n",
    "print(True in [10,10.20,10+20j,'Python', True])\n",
    "print(False in (10,10.20,10+20j,'Python', False))\n",
    "print(True in {1,2,3, True})\n",
    "print(True in {True:100, False:200, True:300})\n",
    "print(False in {True:100, False:200, True:300})"
   ]
  }
 ],
 "metadata": {
  "kernelspec": {
   "display_name": "Python 3 (ipykernel)",
   "language": "python",
   "name": "python3"
  },
  "language_info": {
   "codemirror_mode": {
    "name": "ipython",
    "version": 3
   },
   "file_extension": ".py",
   "mimetype": "text/x-python",
   "name": "python",
   "nbconvert_exporter": "python",
   "pygments_lexer": "ipython3",
   "version": "3.9.13"
  }
 },
 "nbformat": 4,
 "nbformat_minor": 5
}
