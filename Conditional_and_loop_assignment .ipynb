{
 "cells": [
  {
   "cell_type": "markdown",
   "metadata": {
    "id": "wNRNTbrsc53d"
   },
   "source": [
    "# If - elif - else statement"
   ]
  },
  {
   "cell_type": "code",
   "execution_count": 3,
   "metadata": {
    "id": "MiPfTnBycxNa"
   },
   "outputs": [
    {
     "name": "stdout",
     "output_type": "stream",
     "text": [
      "enter a number\n",
      "7\n",
      "seven\n"
     ]
    }
   ],
   "source": [
    "#W. A P. which takes one number from 0 to 9 from the user and prints it in the word. And if the word is not from 0 to 9 then\n",
    "#it should print that number is outside of the range and program should exit.\n",
    "# For exapmple:- \n",
    "# input = 1\n",
    "# output = one\n",
    "print('enter a number')\n",
    "a = eval(input())\n",
    "if a == 0:\n",
    "    print('zero')\n",
    "elif a == 1:\n",
    "    print('one')\n",
    "elif a == 2:\n",
    "    print('two')\n",
    "elif a == 3:\n",
    "    print('three')\n",
    "elif a == 4:\n",
    "    print('four')\n",
    "elif a == 5:\n",
    "    print('five')\n",
    "elif a == 6:\n",
    "    print('six')\n",
    "elif a == 7:\n",
    "    print('seven')\n",
    "elif a == 8:\n",
    "    print('eight')\n",
    "elif a == 9:\n",
    "    print('nine')\n",
    "else:\n",
    "    print('number is outside of the range')\n",
    "    "
   ]
  },
  {
   "cell_type": "code",
   "execution_count": 12,
   "metadata": {
    "id": "vEMNOv9zdA39"
   },
   "outputs": [
    {
     "name": "stdout",
     "output_type": "stream",
     "text": [
      "enter any two numbers\n",
      "20\n",
      "2\n",
      "To add enter 1\n",
      "To subtract enter 2\n",
      "To multiply enter 3\n",
      "To divide enter 4\n",
      "To divide and find quotient enter 5\n",
      "To divide and find remainder enter 6\n",
      "To divide and find num1 to the power of num2 enter 7\n",
      "To Come out of the program enter 8\n",
      "4\n",
      "10.0\n"
     ]
    }
   ],
   "source": [
    "#W. A P. to implement calculator but the operation to be done and two numbers will be taken as input from user:-\n",
    "#Operation console should show below:-\n",
    "#     Please select any one operation from below:-\n",
    "#         * To add enter 1\n",
    "#         * to subtract enter 2\n",
    "#         * To multiply enter 3\n",
    "#         * To divide enter 4\n",
    "#         * To divide and find quotient enter 5\n",
    "#         * To divide and find remainder enter 6\n",
    "#         * To divide and find num1 to the power of num2 enter 7\n",
    "#         * To Come out of the program enter 8\n",
    "\n",
    "#Ans:\n",
    "print('enter any two numbers')\n",
    "a = eval(input())\n",
    "b = eval(input())\n",
    "print('To add enter 1',\n",
    "'To subtract enter 2',\n",
    "'To multiply enter 3',\n",
    "'To divide enter 4',\n",
    "'To divide and find quotient enter 5',\n",
    "'To divide and find remainder enter 6',\n",
    "'To divide and find num1 to the power of num2 enter 7',\n",
    "'To Come out of the program enter 8', sep = '\\n')\n",
    "cal = eval(input())\n",
    "if cal ==1:\n",
    "    print(a+b)\n",
    "elif cal ==2:\n",
    "    print(a-b)\n",
    "elif cal ==3:\n",
    "    print(a*b)\n",
    "elif cal ==4:\n",
    "    print(a/b)\n",
    "elif cal ==5:\n",
    "    print(a//b)\n",
    "elif cal ==6:\n",
    "    print(a%b)\n",
    "elif cal ==7:\n",
    "    print(a**b)\n",
    "elif cal ==8:\n",
    "    print('end')\n",
    "    "
   ]
  },
  {
   "cell_type": "code",
   "execution_count": 20,
   "metadata": {
    "id": "1e2gwYLqdC1s"
   },
   "outputs": [
    {
     "name": "stdout",
     "output_type": "stream",
     "text": [
      "enter any year1999\n",
      "1999 is a not a leap year\n"
     ]
    }
   ],
   "source": [
    "#W A P to check whether a year entered by user is an leap year or not?\n",
    "#Check with below input:-\n",
    "    #leap year:- 2012, 1968, 2004, 1200, 1600,2400\n",
    "    #Non-lear year:- 1971, 2006, 1700,1800,1900\n",
    "#Ans:\n",
    "a =eval(input('enter any year'))\n",
    "if a%400 == 0 and a%100 == 0:\n",
    "    print(f'{a} is a leap year')\n",
    "elif a%4 == 0 and a%100 !=0:\n",
    "    print(f'{a} is a leap year')\n",
    "else:\n",
    "    print(f'{a} is a not a leap year')\n"
   ]
  },
  {
   "cell_type": "code",
   "execution_count": 22,
   "metadata": {
    "id": "_tpXv1EtdEre"
   },
   "outputs": [
    {
     "name": "stdout",
     "output_type": "stream",
     "text": [
      "Enter any number : 7\n",
      "7 is odd number\n"
     ]
    }
   ],
   "source": [
    "#W A P which takes one number from the user and checks whether it is an even or odd number?, If it even then prints number is \n",
    "#even number else prints that number is odd number.\n",
    "\n",
    "a = eval(input('Enter any number : '))\n",
    "if a%2 == 0:\n",
    "    print(f'{a} is even number')\n",
    "else:\n",
    "    print(f'{a} is odd number')"
   ]
  },
  {
   "cell_type": "code",
   "execution_count": 27,
   "metadata": {
    "id": "Q1HumymCdG6i"
   },
   "outputs": [
    {
     "name": "stdout",
     "output_type": "stream",
     "text": [
      "enter num1 :20\n",
      "enter num2 :10\n",
      "num1 is greater than num2\n",
      "******\n",
      "num1 is greater than num2 \n"
     ]
    }
   ],
   "source": [
    "#W A P which takes two numbers from the user and prints below output:-\n",
    "#     1. num1 is greater than num2 if num1 is greater than num2\n",
    "#     2. num1 is smaller than num2 if num1 is smaller than num2\n",
    "#     3. num1 is equal to num2 if num1 and num2 are equal\n",
    "\n",
    "#Note:- 1. Do this problem using if - else \n",
    "#       2. Do this using ternary operator\n",
    "\n",
    "#1.if-else\n",
    "\n",
    "num1= eval(input('enter num1 :'))\n",
    "num2 = eval(input('enter num2 :'))\n",
    "if num1 >num2:\n",
    "    print('num1 is greater than num2')\n",
    "elif num1< num2:\n",
    "    print('num1 is smaller than num2')\n",
    "else:\n",
    "    print('num1 is equal to num2')\n",
    "    \n",
    "print('*'*6)\n",
    "(print('num1 is greater than num2 ')) if num1>num2 else (print('num1 is smaller than num2 ')) if num1< num else (print('num1 is equal to num2') )\n"
   ]
  },
  {
   "cell_type": "code",
   "execution_count": 36,
   "metadata": {
    "id": "LR6TVB-DdOPf"
   },
   "outputs": [
    {
     "name": "stdout",
     "output_type": "stream",
     "text": [
      "enter num 1: 10\n",
      "enter num 1: 2\n",
      "enter num 1: 5\n",
      "num1 is greater than num2 and num3\n",
      "**********\n"
     ]
    },
    {
     "data": {
      "text/plain": [
       "'num1 is greater than num2 and num3'"
      ]
     },
     "execution_count": 36,
     "metadata": {},
     "output_type": "execute_result"
    }
   ],
   "source": [
    "#W A P which takes three numbers from the user and prints below output:-\n",
    "#     1. num1 is greater than num2 and num3 if num1 is greater than num2 and num3\n",
    "#     2. num2 is greater than num1 and num3 if num2 is greater than num1 and num3\n",
    "#     3. num3 is greater than num1 and num2 if num3 is greater than num1 and num2\n",
    "\n",
    "#Note:- 1. Do this problem using if - elif - else \n",
    "#       2. Do this using ternary operator\n",
    "\n",
    "# a = a if a>b else b\n",
    "a = eval(input('enter num 1: '))\n",
    "b = eval(input('enter num 1: '))\n",
    "c = eval(input('enter num 1: '))\n",
    "\n",
    "#if-else method\n",
    "if (a>b) and (a>c):\n",
    "    print('num1 is greater than num2 and num3')\n",
    "elif (b>a) and (b>c):\n",
    "    print('num2 is greater than num1 and num3')\n",
    "else:\n",
    "    print('num3 is greater than num1 and num2')\n",
    "    \n",
    "print('*'*10)\n",
    "'num1 is greater than num2 and num3' if (a>b) and (a>c) else 'num2 is greater than num1 and num3' if (b>a) and (b>c) else 'num3 is greater than num1 and num2'"
   ]
  },
  {
   "cell_type": "markdown",
   "metadata": {
    "id": "IoOLQMUGdSox"
   },
   "source": [
    "# Loops - for loop, while loop"
   ]
  },
  {
   "cell_type": "code",
   "execution_count": 37,
   "metadata": {
    "id": "9K23Uld8dQfA"
   },
   "outputs": [
    {
     "name": "stdout",
     "output_type": "stream",
     "text": [
      "enter any string: 'Write a Python program to find the length of the my_str'\n",
      "lenght of the given string is 55\n"
     ]
    }
   ],
   "source": [
    "#Write a Python program to find the length of the my_str using loop:-\n",
    "\n",
    "#Input:- 'Write a Python program to find the length of the my_str'\n",
    "#Output:- 55\n",
    "a = eval(input(\"enter any string: \"))\n",
    "c =0\n",
    "for i in a:\n",
    "    c+=1\n",
    "print(f'lenght of the given string is {c}')"
   ]
  },
  {
   "cell_type": "code",
   "execution_count": 42,
   "metadata": {
    "id": "bp6AcqTsdYxy"
   },
   "outputs": [
    {
     "name": "stdout",
     "output_type": "stream",
     "text": [
      "total number of times letter 'p' is appeared in the given string is 9\n"
     ]
    }
   ],
   "source": [
    "#Write a Python program to find the total number of times letter 'p' is appeared in the below string using loop:-\n",
    "    \n",
    "#Input:- 'peter piper picked a peck of pickled peppers.\\n'\n",
    "#Output:- 9\n",
    "a = 'peter piper picked a peck of pickled peppers.\\n'\n",
    "i =0\n",
    "c=0\n",
    "while(i<len(a)):\n",
    "    if a[i]=='p':\n",
    "        c+=1\n",
    "    i+=1\n",
    "print(f'total number of times letter \\'p\\' is appeared in the given string is {c}')\n"
   ]
  },
  {
   "cell_type": "code",
   "execution_count": 44,
   "metadata": {
    "id": "xvxSBhTJdav1"
   },
   "outputs": [
    {
     "name": "stdout",
     "output_type": "stream",
     "text": [
      "0\n",
      "6\n",
      "8\n",
      "12\n",
      "21\n",
      "29\n",
      "37\n",
      "39\n",
      "40\n"
     ]
    }
   ],
   "source": [
    "#Write a Python Program, to print all the indexes of all occurences of letter 'p' appeared in the string using loop:-\n",
    "    \n",
    "#Input:- 'peter piper picked a peck of pickled peppers.'\n",
    "#Output:- \n",
    "# 0\n",
    "# 6\n",
    "# 8\n",
    "# 12\n",
    "# 21\n",
    "# 29\n",
    "# 37\n",
    "# 39\n",
    "# 40\n",
    "\n",
    "a = 'peter piper picked a peck of pickled peppers.'\n",
    "for i in range(len(a)):\n",
    "    if a[i]=='p':\n",
    "        print(i)\n",
    "    "
   ]
  },
  {
   "cell_type": "code",
   "execution_count": 54,
   "metadata": {
    "id": "79L_feMadbmw"
   },
   "outputs": [
    {
     "name": "stdout",
     "output_type": "stream",
     "text": [
      "['peter', 'piper', 'picked', 'a', 'peck', 'of', 'pickled', 'peppers']\n"
     ]
    }
   ],
   "source": [
    "#Write a python program to find below output using loop:-\n",
    "\n",
    "#Input:- 'peter piper picked a peck of pickled peppers.'\n",
    "#Output:- ['peter', 'piper', 'picked', 'a', 'peck', 'of', 'pickled', 'peppers']\n",
    "\n",
    "a = 'peter piper picked a peck of pickled peppers.'\n",
    "b =[]\n",
    "c =-1\n",
    "for i in range(len(a)):\n",
    "    if a[i]==' 'or a[i]=='.':\n",
    "        b.append(a[c+1:i])\n",
    "        c=i\n",
    "print(b)\n",
    "        "
   ]
  },
  {
   "cell_type": "code",
   "execution_count": 71,
   "metadata": {
    "id": "vzs5AJ53deVS"
   },
   "outputs": [
    {
     "name": "stdout",
     "output_type": "stream",
     "text": [
      "peppers pickled of peck a picked piper peter\n"
     ]
    }
   ],
   "source": [
    "#Write a python program to find below output using loop:-\n",
    "\n",
    "#Input:- 'peter piper picked a peck of pickled peppers.'\n",
    "#Output:- 'peppers pickled of peck a picked piper peter'\n",
    "\n",
    "a = 'peter piper picked a peck of pickled peppers.'\n",
    "b =[]\n",
    "c =-1\n",
    "for i in range(len(a)):\n",
    "    if a[i]==' 'or a[i]=='.':\n",
    "        b.append(a[c+1:i])\n",
    "        c=i\n",
    "b.reverse()\n",
    "c = ' '.join(b)\n",
    "print(c)\n",
    "        "
   ]
  },
  {
   "cell_type": "code",
   "execution_count": 113,
   "metadata": {
    "id": "i-HP7DrCdhwS"
   },
   "outputs": [
    {
     "name": "stdout",
     "output_type": "stream",
     "text": [
      ".sreppep delkcip fo kcep a dekcip repip retep\n"
     ]
    }
   ],
   "source": [
    "#Write a python program to find below output using loop:-\n",
    "\n",
    "#Input:- 'peter piper picked a peck of pickled peppers.'\n",
    "#Output:- '.sreppep delkcip fo kcep a dekcip repip retep'\n",
    "a = 'peter piper picked a peck of pickled peppers.'\n",
    "b = []\n",
    "\n",
    "for i in range(-1,-len(a)-1,-1):\n",
    "    b.append(a[i])\n",
    "c=''.join(b)\n",
    "print(c)\n",
    "\n"
   ]
  },
  {
   "cell_type": "code",
   "execution_count": 119,
   "metadata": {
    "id": "3rt6p0ytdkq0"
   },
   "outputs": [
    {
     "name": "stdout",
     "output_type": "stream",
     "text": [
      "retep repip dekcip a kcep fo delkcip sreppep\n"
     ]
    }
   ],
   "source": [
    "#Write a python program to find below output using loop:-\n",
    "\n",
    "#Input:- 'peter piper picked a peck of pickled peppers.'\n",
    "#Output:- 'retep repip dekcip a kcep fo delkcip sreppep'\n",
    "a = 'peter piper picked a peck of pickled peppers.'\n",
    "b= []\n",
    "c=-1\n",
    "for i in range(len(a)):\n",
    "    if a[i] == ' ' or a[i] == '.':\n",
    "        b.append(a[(c+1):i])\n",
    "        c=i\n",
    "c= []\n",
    "for i in b:\n",
    "    c.append(i[::-1])\n",
    "d = ' '.join(c)\n",
    "print(d)\n",
    "    "
   ]
  },
  {
   "cell_type": "code",
   "execution_count": 121,
   "metadata": {
    "id": "HdlAWgT2dnKO"
   },
   "outputs": [
    {
     "name": "stdout",
     "output_type": "stream",
     "text": [
      "Peter PiPer Picked a Peck of Pickled PePPers.\n"
     ]
    }
   ],
   "source": [
    "#Write a python program to find below output using loop:-\n",
    "\n",
    "#Input:- 'peter piper picked a peck of pickled peppers.'\n",
    "#Output:- 'Peter Piper Picked A Peck Of Pickled Peppers'\n",
    "\n",
    "a = 'peter piper picked a peck of pickled peppers.'\n",
    "b= a.split(' ')\n"
   ]
  },
  {
   "cell_type": "code",
   "execution_count": 122,
   "metadata": {
    "id": "OthUuacodrNl"
   },
   "outputs": [
    {
     "name": "stdout",
     "output_type": "stream",
     "text": [
      "Peter Piper Picked A Peck Of Pickled Peppers.\n"
     ]
    }
   ],
   "source": [
    "#Write a python program to find below output using loop:-\n",
    "\n",
    "#Input:- 'Peter Piper Picked A Peck Of Pickled Peppers.'\n",
    "#Output:- 'Peter piper picked a peck of pickled peppers'\n",
    "a = 'Peter Piper Picked A Peck Of Pickled Peppers.'\n",
    "b= a.split(' ')\n",
    "c=[]\n",
    "for i in b:\n",
    "    c.append(i.capitalize())\n",
    "print(' '.join(c))"
   ]
  },
  {
   "cell_type": "code",
   "execution_count": 42,
   "metadata": {
    "colab": {
     "base_uri": "https://localhost:8080/",
     "height": 34
    },
    "id": "scmDJE-ldsI9",
    "outputId": "4b1d1979-9f4a-4bc6-c505-b88b1bbd4d5d"
   },
   "outputs": [
    {
     "name": "stdout",
     "output_type": "stream",
     "text": [
      "29\n",
      "29\n",
      "29\n"
     ]
    }
   ],
   "source": [
    "#Write a python program to implement index method using loop. If sub_str is found in my_str then it will print the index\n",
    "# of first occurrence of first character of matching string in my_str:-\n",
    "\n",
    "#Input:- my_str = 'Peter Piper Picked A Peck Of Pickled Peppers.', sub_str = 'Pickl'\n",
    "#Output:- 29\n",
    "\n",
    "my_str = 'Peter Piper Picked A Peck Of Pickled Peppers.'\n",
    "sub_str = 'Pickl'\n",
    "if sub_str in my_str:\n",
    "    print(my_str.index(sub_str))\n",
    "    \n",
    "# using loop and find method\n",
    "my_str = 'Peter Piper Picked A Peck Of Pickled Peppers.'\n",
    "sub_str = 'Pickl'\n",
    "val = True\n",
    "b = 0\n",
    "while val:\n",
    "    b = my_str.find(sub_str)\n",
    "    if b <= 0:\n",
    "        print('string not found')\n",
    "        break\n",
    "    else:\n",
    "        print(b)\n",
    "    val=False\n",
    "    \n",
    "#using index method\n",
    "my_str = 'Peter Piper Picked A Peck Of Pickled Peppers.'\n",
    "sub_str = 'Pickl'\n",
    "val = True\n",
    "b = 0\n",
    "while val:\n",
    "    b = my_str.index(sub_str)\n",
    "    if b == 0:\n",
    "        break\n",
    "    else:\n",
    "        print(b)\n",
    "    val=False\n",
    "    \n",
    "\n",
    "\n",
    "\n",
    "  \n",
    "\n",
    "\n",
    "\n"
   ]
  },
  {
   "cell_type": "code",
   "execution_count": 53,
   "metadata": {
    "id": "Kq_fwdb_dvYE"
   },
   "outputs": [
    {
     "data": {
      "text/plain": [
       "'Peter Piper Picked A pack Of Pickled Peppers.'"
      ]
     },
     "execution_count": 53,
     "metadata": {},
     "output_type": "execute_result"
    }
   ],
   "source": [
    "#Write a python program to implement replace method using loop. If sub_str is found in my_str then it will replace the first \n",
    "#occurrence of sub_str with new_str else it will will print sub_str not found:-\n",
    "\n",
    "#Input:- my_str = 'Peter Piper Picked A Peck Of Pickled Peppers.', sub_str = 'Peck', new_str = 'Pack'\n",
    "#Output:- 'Peter Piper Picked A Pack Of Pickled Peppers.'\n",
    "\n",
    "a = 'Peter Piper Picked A Peck Of Pickled Peppers.'\n",
    "list1 = list(a)\n",
    "b = 'Peck'\n",
    "newstr = 'pack'\n",
    "c =0\n",
    "if b in a:\n",
    "        d = a.index(b)\n",
    "for i in range(d,d+len(b)):\n",
    "    list1[i]=newstr[c]\n",
    "    c+=1\n",
    "''.join(list1)\n"
   ]
  },
  {
   "cell_type": "code",
   "execution_count": 72,
   "metadata": {
    "id": "4Qes5D0cdyd1"
   },
   "outputs": [
    {
     "data": {
      "text/plain": [
       "'*********************Peck********************'"
      ]
     },
     "execution_count": 72,
     "metadata": {},
     "output_type": "execute_result"
    }
   ],
   "source": [
    "#Write a python program to find below output (implements rjust and ljust) using loop:-\n",
    "\n",
    "#Input:- 'Peter Piper Picked A Peck Of Pickled Peppers.', sub_str = 'Peck', \n",
    "#Output:- '*********************Peck********************'\n",
    "\n",
    "a = 'Peter Piper Picked A Peck Of Pickled Peppers.'\n",
    "a1 = list(a)\n",
    "b = 'Peck'\n",
    "b1= True\n",
    "while b1:\n",
    "    if b in a:\n",
    "        i = a.find(b)\n",
    "        for j in range(0,i):\n",
    "            a1[j]='*'\n",
    "        for k in range((i+len(b)),len(a)):\n",
    "            a1[k]='*'\n",
    "        b1 =False\n",
    "''.join(a1)\n",
    "    \n"
   ]
  },
  {
   "cell_type": "code",
   "execution_count": 1,
   "metadata": {
    "id": "DsOrb07Od0lR"
   },
   "outputs": [
    {
     "name": "stdout",
     "output_type": "stream",
     "text": [
      "['This', ' Python class']\n",
      "['This', 'is', 'Python class']\n"
     ]
    }
   ],
   "source": [
    "#Write a python program to find below output using loop:-\n",
    "\n",
    "#Input:- 'This is Python class', sep = ' is', \n",
    "#Output:- ['This', 'is', 'Python class']\n",
    "\n",
    "#using split()\n",
    "a = 'This is Python class'\n",
    "a.split(' is')\n",
    "# output- ['This', ' Python class']\n",
    "\n",
    "#using loop as if we consider as split\n",
    "a=[]\n",
    "b = 'This is Python class'\n",
    "c =' is'\n",
    "j=0\n",
    "for i in range(len(b)):\n",
    "    if c in b:\n",
    "        index = b.find(c,j)\n",
    "        if index >=0:\n",
    "            a.append(b[j:index])\n",
    "            j=index+len(c)\n",
    "        else:\n",
    "            if i == len(b)-1:\n",
    "                a.append(b[j:len(b)+1])\n",
    "print(a)\n",
    "\n",
    "##using loop as if we didnt consider as split\n",
    "a=[]\n",
    "b = 'This is Python class'\n",
    "j=0\n",
    "for i in range(len(b)):\n",
    "    if b[i] == ' ':\n",
    "        a.append(b[j:i])\n",
    "        j=i+1\n",
    "    if i ==len(b)-1:\n",
    "        a[len(a)-1]+=b[j-1:i+1]\n",
    "print(a)"
   ]
  },
  {
   "cell_type": "code",
   "execution_count": 23,
   "metadata": {
    "id": "jRnBVufmd2Ay",
    "scrolled": true
   },
   "outputs": [
    {
     "name": "stdout",
     "output_type": "stream",
     "text": [
      "['This', ' Python class']\n"
     ]
    }
   ],
   "source": [
    "a=[]\n",
    "b = 'This is Python class'\n",
    "c =' is'\n",
    "j=0\n",
    "for i in range(len(b)):\n",
    "    if c in b:\n",
    "        index = b.find(c,j)\n",
    "        if index >=0:\n",
    "            a.append(b[j:index])\n",
    "            j=index+len(c)\n",
    "        else:\n",
    "            if i == len(b)-1:\n",
    "                a.append(b[j:len(b)+1])\n",
    "print(a)"
   ]
  },
  {
   "cell_type": "code",
   "execution_count": 39,
   "metadata": {},
   "outputs": [
    {
     "name": "stdout",
     "output_type": "stream",
     "text": [
      "['This', 'is', 'Python class']\n"
     ]
    }
   ],
   "source": [
    "a=[]\n",
    "b = 'This is Python class'\n",
    "j=0\n",
    "for i in range(len(b)):\n",
    "    if b[i] == ' ':\n",
    "        a.append(b[j:i])\n",
    "        j=i+1\n",
    "    if i ==len(b)-1:\n",
    "        a[len(a)-1]+=b[j-1:i+1]\n",
    "print(a)"
   ]
  },
  {
   "cell_type": "code",
   "execution_count": null,
   "metadata": {},
   "outputs": [],
   "source": []
  }
 ],
 "metadata": {
  "colab": {
   "name": "Conditional_and_loop_assignment.ipynb",
   "provenance": []
  },
  "kernelspec": {
   "display_name": "Python 3",
   "language": "python",
   "name": "python3"
  },
  "language_info": {
   "codemirror_mode": {
    "name": "ipython",
    "version": 3
   },
   "file_extension": ".py",
   "mimetype": "text/x-python",
   "name": "python",
   "nbconvert_exporter": "python",
   "pygments_lexer": "ipython3",
   "version": "3.7.6"
  }
 },
 "nbformat": 4,
 "nbformat_minor": 1
}
