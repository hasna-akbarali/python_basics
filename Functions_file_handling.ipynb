{
 "cells": [
  {
   "cell_type": "markdown",
   "metadata": {},
   "source": [
    "# File handling\n",
    "\n",
    "<b>Q1. Write a Python program to read a file line by line and store it into a list</b>\n",
    "\n",
    "<b>Q2. Write a Python program to extract characters from various text files and puts them into a list.</b>\n",
    "\n",
    "words1.txt <br>\n",
    "Welcome to the Python Wiki, a user-editable compendium of knowledge\n",
    "based around the Python programming language. Some pages are protected\n",
    "against casual editing - see WikiEditingGuidelines for more information\n",
    "about editing content. <br>\n",
    "words2.txt <br>\n",
    "Python is a great object-oriented, interpreted, and interactive\n",
    "programming language. It is often compared (favorably of course :-) )\n",
    "to Lisp, Tcl, Perl, Ruby, C#, Visual Basic, Visual Fox Pro, Scheme or Java...\n",
    "and it's much more fun. <br>\n",
    "\n",
    "# Functions\n",
    "\n",
    "<b>1. Write a Python function to find the Max of three numbers.  </b>\n",
    "\n",
    "<b>2. Write a Python function to sum all the numbers in a list </b>\n",
    "\n",
    "<b>3. Write a Python function to check whether a string is a pangram or not. </b> <br>\n",
    "Note : Pangrams are words or sentences containing every letter of the alphabet at least once.<br>\n",
    "For example : \"The quick brown fox jumps over the lazy dog\"\n",
    "\n",
    "<b>4. Write a Python program to sort a list of tuples using Lambda.</b> <br>\n",
    "Original list of tuples:<br>\n",
    "[('English', 88), ('Science', 90), ('Maths', 97), ('Social sciences', 82)]<br>\n",
    "Sorting the List of Tuples:<br>\n",
    "[('Social sciences', 82), ('English', 88), ('Science', 90), ('Maths', 97)]<br>\n",
    "\n",
    "<b>5. Write a Python program to get the Fibonacci series between 0 to 50. </b>\n",
    "\n",
    "<b>6. Write a Python program to convert temperatures to and from celsius, fahrenheit </b>\n",
    "\n",
    "<b>7. Write a Python program to count the number of even and odd numbers from a series of numbers. </b>\n",
    "\n",
    "<b>8. Write a Python program which iterates the integers from 1 to 50. For multiples of three print \"Fizz\" instead of the number and for the multiples of five print \"Buzz\". For numbers which are multiples of both three and five print \"FizzBuzz\". </b>"
   ]
  },
  {
   "cell_type": "code",
   "execution_count": 14,
   "metadata": {},
   "outputs": [
    {
     "name": "stdout",
     "output_type": "stream",
     "text": [
      "['Welcome to the Python Wiki,', 'a user-editable compendium of knowledge', 'based around the Python programming language.', 'Some pages are protected against casual editing -', 'see WikiEditingGuidelines for more information about editing content.']\n"
     ]
    }
   ],
   "source": [
    "# Q1. Write a Python program to read a file line by line and store it into a list\n",
    "\n",
    "f = open('word1.txt', 'r')\n",
    "list_of_sentance = f.readlines()\n",
    "new_list = [] \n",
    "for i in list_of_sentance:\n",
    "    new_list.append(i.strip())\n",
    "print(new_list)"
   ]
  },
  {
   "cell_type": "code",
   "execution_count": 19,
   "metadata": {},
   "outputs": [
    {
     "name": "stdout",
     "output_type": "stream",
     "text": [
      "['Welcome to the Python Wiki,\\n', 'a user-editable compendium of knowledge\\n', 'based around the Python programming language.\\n', 'Some pages are protected against casual editing - \\n', 'see WikiEditingGuidelines for more information about editing content.']\n",
      "['Welcome to the Python Wiki,', 'a user-editable compendium of knowledge', 'based around the Python programming language.', 'Some pages are protected against casual editing -', 'see WikiEditingGuidelines for more information about editing content.']\n"
     ]
    }
   ],
   "source": [
    "f = open('word1.txt', 'r')\n",
    "list1 = f.readlines()\n",
    "\n",
    "new_f = open('word2.txt', 'r')\n",
    "list2 = new_f.readlines()\n",
    "list1.extend(list2)\n",
    "new_list = []\n",
    "\n",
    "for i in list1:\n",
    "    new_list.append(i.strip())\n",
    "    \n",
    "print(new_list)"
   ]
  },
  {
   "cell_type": "code",
   "execution_count": null,
   "metadata": {},
   "outputs": [],
   "source": [
    "# Write a Python function to find the Max of three numbers.\n",
    "\n",
    "def maximum(a,b,c):\n",
    "    if a>b and a>c:\n",
    "        print(a)\n",
    "    else:\n",
    "        if b>c:\n",
    "            print(b)\n",
    "        else:\n",
    "            print(c)\n",
    "    \n",
    "\n",
    "a = int(input())\n",
    "b = int(input())\n",
    "c = int(input())\n",
    "\n",
    "maximum(a,b,c)"
   ]
  },
  {
   "cell_type": "code",
   "execution_count": 22,
   "metadata": {},
   "outputs": [
    {
     "name": "stdout",
     "output_type": "stream",
     "text": [
      "[1,2,3,4]\n",
      "10\n"
     ]
    }
   ],
   "source": [
    "# 2. Write a Python function to sum all the numbers in a list\n",
    "\n",
    "def summation(list1):\n",
    "    sum1 = 0\n",
    "    for i in list1:\n",
    "        sum1 += i\n",
    "    return sum1\n",
    "\n",
    "list1 = eval(input())\n",
    "\n",
    "print(summation(list1))"
   ]
  },
  {
   "cell_type": "code",
   "execution_count": 29,
   "metadata": {},
   "outputs": [
    {
     "name": "stdout",
     "output_type": "stream",
     "text": [
      "True\n",
      "False\n"
     ]
    }
   ],
   "source": [
    "# Write a Python function to check whether a string is a pangram or not.\n",
    "\n",
    "def check_if_pangram(string):\n",
    "    for i in pangram:\n",
    "        if i not in string:\n",
    "            return False\n",
    "    return True\n",
    "\n",
    "pangram = 'abcdefghijklmnopqrstuvwxyz'\n",
    "\n",
    "print(check_if_pangram('abcdefghijklmnopqrstuvwxyz'))\n",
    "print(check_if_pangram('defghijklmnopqr'))"
   ]
  },
  {
   "cell_type": "code",
   "execution_count": 11,
   "metadata": {},
   "outputs": [
    {
     "name": "stdout",
     "output_type": "stream",
     "text": [
      "[('Social sciences', 82), ('English', 88), ('Science', 90), ('Maths', 97)]\n"
     ]
    }
   ],
   "source": [
    "# 4. Write a Python program to sort a list of tuples using Lambda.\n",
    "# Original list of tuples:\n",
    "# [('English', 88), ('Science', 90), ('Maths', 97), ('Social sciences', 82)]\n",
    "# Sorting the List of Tuples:\n",
    "# [('Social sciences', 82), ('English', 88), ('Science', 90), ('Maths', 97)]\n",
    "\n",
    "list_of_tuple = [('English', 88), ('Science', 90), ('Maths', 97), ('Social sciences', 82)]\n",
    "list_of_tuple.sort(key = lambda x: x[1])\n",
    "print(list_of_tuple)"
   ]
  },
  {
   "cell_type": "code",
   "execution_count": null,
   "metadata": {},
   "outputs": [],
   "source": [
    "F0 = 0\tF10 = 55\n",
    "F1 = 1\tF11 = 89\n",
    "F2 = 1\tF12 = 144\n",
    "F3 = 2\tF13 = 233\n",
    "F4 = 3\tF14 = 377\n",
    "F5 = 5\tF15 = 610\n",
    "F6 = 8\tF16 = 987\n",
    "F7 = 13\tF17 = 1597\n",
    "F8 = 21\tF18 = 2584\n",
    "F9 = 34\tF19 = 4181"
   ]
  },
  {
   "cell_type": "code",
   "execution_count": 27,
   "metadata": {},
   "outputs": [
    {
     "name": "stdout",
     "output_type": "stream",
     "text": [
      "How many numbers:50\n",
      "[0, 1, 1, 3, 5, 7, 9, 11, 13, 15, 17, 19, 21, 23, 25, 27, 29, 31, 33, 35, 37, 39, 41, 43, 45, 47, 49, 51, 53, 55, 57, 59, 61, 63, 65, 67, 69, 71, 73, 75, 77, 79, 81, 83, 85, 87, 89, 91, 93, 95]\n"
     ]
    }
   ],
   "source": [
    "# 5. Write a Python program to get the Fibonacci series between 0 to 50.\n",
    "\n",
    "def fibonacci(n):\n",
    "    first = 0\n",
    "    second = 1\n",
    "    for i in range(n-2):\n",
    "        fib_lst.append(first+second)\n",
    "        first = second\n",
    "        second = second+1\n",
    "        \n",
    "    print(fib_lst)\n",
    "    \n",
    "fib_lst = [0,1]\n",
    "n = int(input('How many numbers:'))\n",
    "fibonacci(n)\n"
   ]
  },
  {
   "cell_type": "code",
   "execution_count": 3,
   "metadata": {},
   "outputs": [
    {
     "name": "stdout",
     "output_type": "stream",
     "text": [
      "Enter celsius: 25\n",
      "Enter fahrenheit: 77\n",
      "25.0\n",
      "77.0\n"
     ]
    }
   ],
   "source": [
    "# 6. Write a Python program to convert temperatures to and from celsius, fahrenheit\n",
    "\n",
    "def fahren_to_celsius(f):\n",
    "    return ((f-32)*5)/9\n",
    "\n",
    "def celsius_to_fahren(c):\n",
    "    return (c * (9/5)) + 32 \n",
    "     \n",
    "c = int(input('Enter celsius: '))\n",
    "f = int(input('Enter fahrenheit: '))\n",
    "\n",
    "print(celsius_to_fahren(c))\n",
    "print(fahren_to_celsius(f))"
   ]
  },
  {
   "cell_type": "code",
   "execution_count": 8,
   "metadata": {},
   "outputs": [
    {
     "name": "stdout",
     "output_type": "stream",
     "text": [
      "Odd Numbers Count: 15\n",
      "Even Numbers Count: 15\n"
     ]
    }
   ],
   "source": [
    "# 7. Write a Python program to count the number of even and odd numbers from a series of numbers.\n",
    "\n",
    "def odd_count_even_count(numbers):\n",
    "    odd_count = 0\n",
    "    even_count = 0\n",
    "    for i in numbers:\n",
    "        if i%2 != 0:\n",
    "            odd_count += 1\n",
    "        else:\n",
    "            even_count += 1\n",
    "    print('Odd Numbers Count:',odd_count)\n",
    "    print('Even Numbers Count:',even_count)\n",
    "\n",
    "numbers = list(range(30))\n",
    "odd_count_even_count(numbers)"
   ]
  }
 ],
 "metadata": {
  "kernelspec": {
   "display_name": "Python 3",
   "language": "python",
   "name": "python3"
  },
  "language_info": {
   "codemirror_mode": {
    "name": "ipython",
    "version": 3
   },
   "file_extension": ".py",
   "mimetype": "text/x-python",
   "name": "python",
   "nbconvert_exporter": "python",
   "pygments_lexer": "ipython3",
   "version": "3.7.6"
  }
 },
 "nbformat": 4,
 "nbformat_minor": 4
}
